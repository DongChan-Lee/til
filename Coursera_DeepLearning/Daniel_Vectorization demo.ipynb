{
 "cells": [
  {
   "cell_type": "markdown",
   "metadata": {},
   "source": [
    "- \"Vectorization\" is basically the art of getting rid of explicit for loops in your code. → to speed up your code!\n",
    "- Implement a single iteration of gradient descent without using any for loops."
   ]
  },
  {
   "cell_type": "markdown",
   "metadata": {},
   "source": [
    "### 같은 z값을 계산해내지만, Vectorized version이 For loop version보다 약 400배 더 빠른 걸 확인할 수 있다."
   ]
  },
  {
   "cell_type": "code",
   "execution_count": 21,
   "metadata": {},
   "outputs": [
    {
     "name": "stdout",
     "output_type": "stream",
     "text": [
      "250042.72185654115\n",
      "vectorized version:2.0058155059814453ms\n",
      "250042.72185653468\n",
      "for loop version:792.8779125213623ms\n"
     ]
    }
   ],
   "source": [
    "import numpy as np\n",
    "import time\n",
    "\n",
    "w = np.random.rand(1000000)\n",
    "x = np.random.rand(1000000)\n",
    "\n",
    "# vectorized version\n",
    "tic = time.time()\n",
    "z = np.dot(w, x)\n",
    "toc = time.time()\n",
    "\n",
    "print(z)\n",
    "print(\"vectorized version:\" + str(1000*(toc-tic)) + \"ms\")\n",
    "\n",
    "# for loop version\n",
    "z = 0\n",
    "tic = time.time()\n",
    "for i in range(1000000):\n",
    "    z += w[i]*x[i]\n",
    "toc = time.time()\n",
    "\n",
    "print(z)\n",
    "print(\"for loop version:\" + str(1000*(toc-tic)) + \"ms\")"
   ]
  },
  {
   "cell_type": "code",
   "execution_count": null,
   "metadata": {},
   "outputs": [],
   "source": []
  }
 ],
 "metadata": {
  "kernelspec": {
   "display_name": "Python 3",
   "language": "python",
   "name": "python3"
  },
  "language_info": {
   "codemirror_mode": {
    "name": "ipython",
    "version": 3
   },
   "file_extension": ".py",
   "mimetype": "text/x-python",
   "name": "python",
   "nbconvert_exporter": "python",
   "pygments_lexer": "ipython3",
   "version": "3.7.4"
  }
 },
 "nbformat": 4,
 "nbformat_minor": 4
}
